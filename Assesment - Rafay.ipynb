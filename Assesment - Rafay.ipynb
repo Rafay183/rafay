{
 "cells": [
  {
   "cell_type": "code",
   "execution_count": null,
   "id": "c3441d8c",
   "metadata": {},
   "outputs": [],
   "source": [
    "import numpy as np\n",
    "import pandas as pd"
   ]
  },
  {
   "cell_type": "code",
   "execution_count": null,
   "id": "a1be96be",
   "metadata": {},
   "outputs": [],
   "source": [
    "df = pd.read_excel(\"loan-data.xlsx\", usecols=['funded_amnt','funded_amnt','term','int_rate','installment','emp_length','home_ownership','annual_inc','verification_status','loan_status'])"
   ]
  },
  {
   "cell_type": "code",
   "execution_count": null,
   "id": "5d7d1060",
   "metadata": {},
   "outputs": [],
   "source": [
    "df.info()"
   ]
  },
  {
   "cell_type": "code",
   "execution_count": null,
   "id": "467d1e3c",
   "metadata": {},
   "outputs": [],
   "source": [
    "import pandas as pd\n",
    "from sklearn.preprocessing import LabelEncoder, StandardScaler\n",
    "from sklearn.model_selection import train_test_split\n",
    "from sklearn.tree import DecisionTreeClassifier\n",
    "from sklearn.metrics import accuracy_score, classification_report\n",
    "\n",
    "\n",
    "\n"
   ]
  },
  {
   "cell_type": "code",
   "execution_count": null,
   "id": "20f61bfe",
   "metadata": {},
   "outputs": [],
   "source": [
    "label_encoder = LabelEncoder()\n",
    "df['term'] = label_encoder.fit_transform(df['term'])\n",
    "df['home_ownership'] = label_encoder.fit_transform(df['home_ownership'])\n",
    "df['verification_status'] = label_encoder.fit_transform(df['verification_status'])"
   ]
  },
  {
   "cell_type": "code",
   "execution_count": null,
   "id": "b6b2155f",
   "metadata": {},
   "outputs": [],
   "source": [
    "df.dropna(subset=['funded_amnt', 'installment', 'annual_inc'], inplace=True)\n",
    "df['emp_length'].fillna(df['emp_length'].median(), inplace=True)\n",
    "\n",
    "X = df.drop('loan_status', axis=1)\n",
    "y = df['loan_status']"
   ]
  },
  {
   "cell_type": "code",
   "execution_count": null,
   "id": "d509c49f",
   "metadata": {},
   "outputs": [],
   "source": [
    "X_train, X_test, y_train, y_test = train_test_split(X, y, test_size=0.2, random_state=42)"
   ]
  },
  {
   "cell_type": "code",
   "execution_count": null,
   "id": "4740776d",
   "metadata": {},
   "outputs": [],
   "source": [
    "scaler = StandardScaler()\n",
    "X_train_scaled = scaler.fit_transform(X_train)\n",
    "X_test_scaled = scaler.transform(X_test)\n"
   ]
  },
  {
   "cell_type": "code",
   "execution_count": null,
   "id": "dc6b7c54",
   "metadata": {},
   "outputs": [],
   "source": [
    "# Model training\n",
    "model = DecisionTreeClassifier(random_state=42)\n",
    "model.fit(X_train_scaled, y_train)"
   ]
  },
  {
   "cell_type": "code",
   "execution_count": null,
   "id": "0295437b",
   "metadata": {},
   "outputs": [],
   "source": [
    "# Model evaluation\n",
    "y_pred = model.predict(X_test_scaled)\n",
    "accuracy = accuracy_score(y_test, y_pred)\n",
    "print(f\"Accuracy: {accuracy:.2f}\")"
   ]
  },
  {
   "cell_type": "code",
   "execution_count": null,
   "id": "123d59f8",
   "metadata": {},
   "outputs": [],
   "source": [
    "report = classification_report(y_test, y_pred)\n",
    "print(\"Classification Report:\\n\", report)"
   ]
  },
  {
   "cell_type": "code",
   "execution_count": null,
   "id": "094cf8ad",
   "metadata": {},
   "outputs": [],
   "source": [
    "new_customer_data = [[10000, 36, 10.5, 325.74, 2, 'RENT', 50000, 'Not Verified']]\n",
    "new_customer_data_encoded = [new_customer_data[0][0], 1] + new_customer_data[0][2:]\n",
    "new_customer_data_encoded[-1] = label_encoder.transform([new_customer_data_encoded[-1]])[0]\n",
    "new_customer_data_scaled = scaler.transform([new_customer_data_encoded])\n",
    "prediction = model.predict(new_customer_data_scaled)\n",
    "if prediction[0] == 1:\n",
    "    print(\"Customer is eligible for a loan.\")\n",
    "else:\n",
    "    print(\"Customer is not eligible for a loan.\")\n"
   ]
  },
  {
   "cell_type": "code",
   "execution_count": null,
   "id": "c45e0bd8",
   "metadata": {},
   "outputs": [],
   "source": []
  },
  {
   "cell_type": "code",
   "execution_count": null,
   "id": "cb6bd845",
   "metadata": {},
   "outputs": [],
   "source": []
  },
  {
   "cell_type": "code",
   "execution_count": null,
   "id": "9e703016",
   "metadata": {},
   "outputs": [],
   "source": []
  }
 ],
 "metadata": {
  "kernelspec": {
   "display_name": "Python 3 (ipykernel)",
   "language": "python",
   "name": "python3"
  },
  "language_info": {
   "codemirror_mode": {
    "name": "ipython",
    "version": 3
   },
   "file_extension": ".py",
   "mimetype": "text/x-python",
   "name": "python",
   "nbconvert_exporter": "python",
   "pygments_lexer": "ipython3",
   "version": "3.11.3"
  }
 },
 "nbformat": 4,
 "nbformat_minor": 5
}
